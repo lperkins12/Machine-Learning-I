{
 "cells": [
  {
   "cell_type": "markdown",
   "metadata": {},
   "source": [
    "# Python Practice - Lab Assignment (100 points)"
   ]
  },
  {
   "cell_type": "markdown",
   "metadata": {},
   "source": [
    "### Question 1 (10 points): \n",
    "\n",
    "Python has a simple syntax and is a great first language. State: True or False"
   ]
  },
  {
   "cell_type": "markdown",
   "metadata": {},
   "source": [
    "    Solution: True"
   ]
  },
  {
   "cell_type": "markdown",
   "metadata": {},
   "source": [
    "### Question 2 (20 points):\n",
    "\n",
    "Fill in the missing python code `-----` program to print the sum of first n integers. You will get similar output as follows if you fill in the correct code:\n",
    "\n",
    "    Sum of first n integers:\n",
    "\n",
    "    Enter the value of n: 10\n",
    "    Total: 55"
   ]
  },
  {
   "cell_type": "code",
   "execution_count": 5,
   "metadata": {},
   "outputs": [
    {
     "name": "stdout",
     "output_type": "stream",
     "text": [
      "Sum of first n integers:\n",
      "\n",
      "Enter the value of n: 10\n",
      "Total:  55\n"
     ]
    }
   ],
   "source": [
    "#Solution\n",
    "print(\"Sum of first n integers:\\n\")\n",
    "total_value = 0 # Delete '-----' and replace it with your answer.\n",
    "n = int(input (\"Enter the value of n: \"))\n",
    "for i in range(1,n+1): # Delete '-----' and replace it with your answer.\n",
    "    total_value = total_value + i# Delete '-----' and replace it with your answer.\n",
    "print(\"Total: \",total_value)"
   ]
  },
  {
   "cell_type": "markdown",
   "metadata": {},
   "source": [
    "### Question 3 (10 points): \n",
    "\n",
    "Use the **concatenation operator** to print the following string using the varaibles given below and using one **print** statement.\n",
    "\n",
    "Output:\n",
    "\n",
    "    My name is Bob Smiths and my age is 55."
   ]
  },
  {
   "cell_type": "code",
   "execution_count": 17,
   "metadata": {},
   "outputs": [
    {
     "name": "stdout",
     "output_type": "stream",
     "text": [
      "My name is Bob Smith and my age is 55.\n",
      "My name is Bob Smith and my age is 55 .\n"
     ]
    }
   ],
   "source": [
    "#Solution\n",
    "first_name = \"Bob\"\n",
    "last_name = \"Smith\"\n",
    "age = 55\n",
    "print(\"My name is \"+str(first_name)+ \" \"+ str(last_name) +\" and my age is \"+str(age)+\".\") #method1\n",
    "print(\"My name is\",first_name,last_name,\"and my age is\",age,\".\") #method2"
   ]
  },
  {
   "cell_type": "markdown",
   "metadata": {},
   "source": [
    "### Question 4 (15 points):\n",
    "\n",
    "Modify the following code to print multiplication table of 5 and get the following output.\n",
    "\n",
    "Output:\n",
    "\n",
    "    5 x 1  =\t5\n",
    "    5 x 2  =\t10\n",
    "    5 x 3  =\t15\n",
    "    5 x 4  =\t20\n",
    "    5 x 5  =\t25\n",
    "    5 x 6  =\t30\n",
    "    5 x 7  =\t35\n",
    "    5 x 8  =\t40\n",
    "    5 x 9  =\t45\n",
    "    5 x 10  =\t50\n",
    "    5 x 11  =\t55\n",
    "    5 x 12  =\t60"
   ]
  },
  {
   "cell_type": "code",
   "execution_count": 1,
   "metadata": {},
   "outputs": [
    {
     "name": "stdout",
     "output_type": "stream",
     "text": [
      "5 x  0  =  0\n",
      "5 x  1  =  5\n",
      "5 x  2  =  10\n",
      "5 x  3  =  15\n",
      "5 x  4  =  20\n",
      "5 x  5  =  25\n",
      "5 x  6  =  30\n",
      "5 x  7  =  35\n",
      "5 x  8  =  40\n",
      "5 x  9  =  45\n",
      "5 x  10  =  50\n",
      "5 x  11  =  55\n",
      "5 x  12  =  60\n"
     ]
    }
   ],
   "source": [
    "#Solution\n",
    "for i in range(13):\n",
    "    print(\"5 x \",i,\" = \",5*i)"
   ]
  },
  {
   "cell_type": "markdown",
   "metadata": {},
   "source": [
    "### Question 5 (10 points):\n",
    "\n",
    "What will be output of the following code segment? You will find the results after you run the code."
   ]
  },
  {
   "cell_type": "code",
   "execution_count": 14,
   "metadata": {},
   "outputs": [
    {
     "name": "stdout",
     "output_type": "stream",
     "text": [
      "Saturday\n",
      "1 . Sunday\n",
      "2 . Monday\n",
      "3 . Tuesday\n",
      "4 . Wednesday\n",
      "5 . Thursday\n",
      "6 . Friday\n",
      "7 . Saturday\n"
     ]
    }
   ],
   "source": [
    "#Solution\n",
    "days_of_the_week = [\"Sunday\",\"Monday\",\"Tuesday\",\"Wednesday\",\"Thursday\",\"Friday\",\"Saturday\"]\n",
    "print(days_of_the_week[-1])\n",
    "for i in range(0,7):\n",
    "    print(i+1,\".\",days_of_the_week[i])\n",
    "\n",
    "    \n",
    "#the first portion of the code that says, print(days_of_the_week[-1]) will have an output of Saturday because Sunday has an input of 0, so Saturday will be the output when the input is 7 or -1\n",
    "#the seconf portion of the code will provide a list of the days of the week with the number of the day of the week, eg: 2.Monday because Monday is the second day of the week\n",
    "    "
   ]
  },
  {
   "cell_type": "markdown",
   "metadata": {},
   "source": [
    "### Question 6 (5 points):\n",
    "\n",
    "How could you find help on built-in functions?"
   ]
  },
  {
   "cell_type": "markdown",
   "metadata": {},
   "source": [
    "    Solution: If you need help with built-in functions, type help(function).  This will display how the function is defined.  For example:\n",
    "    \n",
    "    from math import factorial\n",
    "    help(factorial)"
   ]
  },
  {
   "cell_type": "markdown",
   "metadata": {},
   "source": [
    "### Question 7 (10 points):\n",
    "\n",
    "Fill in the missing python function below to print the factorial of a number. You will get similar output as follows if you fill in the correct code:\n",
    "\n",
    "    Enter the value on N: 5\n",
    "    5! is 120"
   ]
  },
  {
   "cell_type": "code",
   "execution_count": 6,
   "metadata": {},
   "outputs": [
    {
     "name": "stdout",
     "output_type": "stream",
     "text": [
      "Enter the value on N:5\n",
      "5 ! is 120\n"
     ]
    }
   ],
   "source": [
    "#Solution:\n",
    "def factorial(n):\n",
    "   if n == 1:\n",
    "       return n\n",
    "   else:\n",
    "       return n*factorial(n-1)\n",
    "\n",
    "num=int(input(\"Enter the value on N:\"))\n",
    "if num < 0:\n",
    "   print(\"Sorry, factorial does not exist for negative numbers\")\n",
    "elif num == 0:\n",
    "   print(\"0! is 1\") # Delete '-----' and replace it with your answer.\n",
    "else:\n",
    "   print(num,\"! is\",factorial(num)) # Delete '-----' and replace it with your answer."
   ]
  },
  {
   "cell_type": "markdown",
   "metadata": {},
   "source": [
    "### Question 8 (20 points):\n",
    "\n",
    "Write a python program to take in the scores of three exams and computer their grade based on the following criteria:\n",
    "\n",
    "- If average exam score >90 then print a letter grade \"A\"\n",
    "- If average exam score is between 80 and 90 then print a letter grade \"B\"\n",
    "- If average exam score is between 70 and 80  then print a letter grade \"C\"\n",
    "- If average exam score is between 60 and 70  then print a letter grade \"D\"\n",
    "- If average exam score is less than 60 then print a letter grade \"F\"\n",
    "- Otherwise print \"invaid input\"\n",
    "\n",
    "You will get similar output as follows if you fill in the correct code:\n",
    "\n",
    "    Exam 1: 95\n",
    "    Exam 2: 97\n",
    "    Exam 3: 99\n",
    "    Your letter grade is \"A\"\n"
   ]
  },
  {
   "cell_type": "code",
   "execution_count": 17,
   "metadata": {},
   "outputs": [
    {
     "name": "stdout",
     "output_type": "stream",
     "text": [
      "Enter Exam 1: 103\n",
      "Enter Exam 2: 103\n",
      "Enter Exam 3: 103\n",
      "Invalid input.\n"
     ]
    }
   ],
   "source": [
    "#Solution:\n",
    "score1=float(input(\"Enter Exam 1: \"))\n",
    "score2=float(input(\"Enter Exam 2: \"))\n",
    "score3=float(input(\"Enter Exam 3: \"))\n",
    "avg=(score1+score2+score3)/3\n",
    "if (avg>90) and (avg<=100):\n",
    "    print (\"Your letter grade is A.\")\n",
    "if (avg>80) and (avg<=90):\n",
    "    print (\"Your letter grade is B.\")\n",
    "if (avg>70) and (avg<=80):\n",
    "    print (\"Your letter grade is C.\")\n",
    "if (avg>60) and (avg<=70):\n",
    "    print (\"Your letter grade is D.\")\n",
    "if (avg<60):\n",
    "    print (\"Your letter grade is F.\")\n",
    "if (avg>100):\n",
    "    print (\"Invalid input.\")"
   ]
  },
  {
   "cell_type": "code",
   "execution_count": null,
   "metadata": {},
   "outputs": [],
   "source": []
  }
 ],
 "metadata": {
  "kernelspec": {
   "display_name": "Python 3 (ipykernel)",
   "language": "python",
   "name": "python3"
  },
  "language_info": {
   "codemirror_mode": {
    "name": "ipython",
    "version": 3
   },
   "file_extension": ".py",
   "mimetype": "text/x-python",
   "name": "python",
   "nbconvert_exporter": "python",
   "pygments_lexer": "ipython3",
   "version": "3.9.12"
  }
 },
 "nbformat": 4,
 "nbformat_minor": 4
}
